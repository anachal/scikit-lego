{
 "cells": [
  {
   "cell_type": "code",
   "execution_count": 281,
   "metadata": {},
   "outputs": [],
   "source": [
    "from sklearn.linear_model import LogisticRegression\n",
    "from sklearn.tree import DecisionTreeClassifier\n",
    "from sklearn.metrics import confusion_matrix\n",
    "from sklearn import datasets"
   ]
  },
  {
   "cell_type": "code",
   "execution_count": 282,
   "metadata": {},
   "outputs": [],
   "source": [
    "class EnsembleModel():  \n",
    "    \n",
    "    def __init__(self, X_test, y_test, estimator=LogisticRegression(), alpha = 0.5):  \n",
    "        self.estimator = estimator\n",
    "        self.alpha = alpha\n",
    "        self.X_test = X_test\n",
    "        self.y_test = y_test\n",
    "        \n",
    "    def fit(self, X, y):\n",
    "       # self.X_train = X\n",
    "       # self.X_test = y\n",
    "        self.fitted_estimator_ = self.estimator.fit(X, y)\n",
    "        \n",
    "        return self\n",
    "    \n",
    "    def predict(self, X):\n",
    "        return self.fitted_estimator_.predict(X)\n",
    "\n",
    "    \n",
    "    def predict_proba(self, X):\n",
    "        return self.fitted_estimator_.predict_proba(X)\n",
    "    \n",
    "    def confusion_matrix(self):\n",
    "        y_pred = self.predict(self.X_test)\n",
    "        return confusion_matrix(self.y_test, y_pred)\n",
    "    \n",
    "    def prob_matrix(self):\n",
    "        cfm = self.confusion_matrix().T\n",
    "        return (cfm.T/cfm.sum(axis=1)).T \n",
    "    \n",
    "    def p_star(self, X):\n",
    "        p = self.predict_proba(X)\n",
    "        prob_matrix = self.prob_matrix()\n",
    "        return  p @ prob_matrix\n",
    "    \n",
    "    def make_prediction(self, X):\n",
    "        p = self.predict_proba(X)\n",
    "        p_star = self.p_star(X)\n",
    "        return (1-self.alpha)*p + self.alpha*p_star\n",
    "        "
   ]
  },
  {
   "cell_type": "code",
   "execution_count": 283,
   "metadata": {},
   "outputs": [],
   "source": [
    "iris = datasets.load_iris()\n",
    "X = iris.data[:, :2]  # we only take the first two features.\n",
    "y = iris.target"
   ]
  },
  {
   "cell_type": "code",
   "execution_count": 285,
   "metadata": {},
   "outputs": [],
   "source": [
    "test = EnsembleModel(X_test = X, y_test = y, estimator = DecisionTreeClassifier(), alpha=0.6)"
   ]
  },
  {
   "cell_type": "code",
   "execution_count": 286,
   "metadata": {
    "scrolled": true
   },
   "outputs": [
    {
     "data": {
      "text/plain": [
       "array([[1., 0., 0.]])"
      ]
     },
     "execution_count": 286,
     "metadata": {},
     "output_type": "execute_result"
    }
   ],
   "source": [
    "test.fit(X, y)\n",
    "test.make_prediction([X[0]])\n",
    "\n",
    "#test.confusion_matrix()\n",
    "#test.prob_matrix()\n",
    "\n",
    "#test.p_star([X[0]])\n",
    "#test.make_prediction([X[0]])"
   ]
  },
  {
   "cell_type": "code",
   "execution_count": 233,
   "metadata": {},
   "outputs": [
    {
     "data": {
      "text/plain": [
       "array([[0.77086021, 0.00438838, 0.00130474],\n",
       "       [0.03146368, 0.09215597, 0.01043791],\n",
       "       [0.        , 0.0427867 , 0.042404  ]])"
      ]
     },
     "execution_count": 233,
     "metadata": {},
     "output_type": "execute_result"
    }
   ],
   "source": [
    "test.p_star([X[0]])"
   ]
  },
  {
   "cell_type": "code",
   "execution_count": 237,
   "metadata": {},
   "outputs": [
    {
     "data": {
      "text/plain": [
       "array([[0.94230769, 0.03846154, 0.01923077],\n",
       "       [0.03846154, 0.80769231, 0.15384615],\n",
       "       [0.        , 0.375     , 0.625     ]])"
      ]
     },
     "execution_count": 237,
     "metadata": {},
     "output_type": "execute_result"
    }
   ],
   "source": [
    "test.prob_matrix()"
   ]
  },
  {
   "cell_type": "code",
   "execution_count": 249,
   "metadata": {},
   "outputs": [
    {
     "data": {
      "text/plain": [
       "array([[0.77086021, 0.00438838, 0.00130474],\n",
       "       [0.03146368, 0.09215597, 0.01043791],\n",
       "       [0.        , 0.0427867 , 0.042404  ]])"
      ]
     },
     "execution_count": 249,
     "metadata": {},
     "output_type": "execute_result"
    }
   ],
   "source": [
    "test.p_star([X[0]])"
   ]
  },
  {
   "cell_type": "code",
   "execution_count": null,
   "metadata": {},
   "outputs": [],
   "source": []
  }
 ],
 "metadata": {
  "kernelspec": {
   "display_name": "Python 3",
   "language": "python",
   "name": "python3"
  },
  "language_info": {
   "codemirror_mode": {
    "name": "ipython",
    "version": 3
   },
   "file_extension": ".py",
   "mimetype": "text/x-python",
   "name": "python",
   "nbconvert_exporter": "python",
   "pygments_lexer": "ipython3",
   "version": "3.7.0"
  }
 },
 "nbformat": 4,
 "nbformat_minor": 2
}
